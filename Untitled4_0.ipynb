{
 "cells": [
  {
   "cell_type": "code",
   "execution_count": 9,
   "id": "3eb195c7-fe49-4edb-b903-8d060dced111",
   "metadata": {},
   "outputs": [
    {
     "data": {
      "text/plain": [
       "0.7359028880291"
      ]
     },
     "execution_count": 9,
     "metadata": {},
     "output_type": "execute_result"
    }
   ],
   "source": [
    "import pandas as pd\n",
    "from sklearn.model_selection import train_test_split\n",
    "from sklearn.linear_model import LinearRegression\n",
    "from sklearn.preprocessing import StandardScaler\n",
    "\n",
    "%matplotlib inline\n",
    "\n",
    "df = pd.read_csv('Boston.csv')\n",
    "\n",
    "crime = pd.get_dummies(df['CRIME'], drop_first=True)\n",
    "df2 = pd.concat([df, crime], axis=1)\n",
    "df2 = df2.drop(['CRIME'], axis=1)\n",
    "\n",
    "train_val, test = train_test_split(df2, test_size=0.2, random_state=0)\n",
    "train_val_mean = train_val.mean()\n",
    "train_val2 = train_val.fillna(train_val_mean)\n",
    "\n",
    "out_line1 = train_val2[ (train_val2['RM'] < 6) & (train_val2['PRICE'] > 40) ].index\n",
    "out_line2 = train_val2[ (train_val2['PTRATIO'] > 18) & (train_val2['PRICE'] > 40) ].index\n",
    "\n",
    "train_val3 = train_val2.drop([76], axis=0)\n",
    "\n",
    "col = ['INDUS', 'NOX', 'RM', 'PTRATIO', 'LSTAT', 'PRICE']\n",
    "train_val4 = train_val3[col]\n",
    "\n",
    "col = ['RM', 'LSTAT', 'PTRATIO']\n",
    "x = train_val4[col]\n",
    "t = train_val4[['PRICE']]\n",
    "\n",
    "x_train, x_val, y_train, y_val = train_test_split(x, t, test_size=0.2, random_state=0)\n",
    "\n",
    "sc_model_x = StandardScaler()\n",
    "sc_model_x.fit(x_train)\n",
    "sc_x = sc_model_x.transform(x_train)\n",
    "\n",
    "sc_model_y = StandardScaler()\n",
    "sc_model_y.fit(y_train)\n",
    "sc_y = sc_model_y.transform(y_train)\n",
    "\n",
    "model = LinearRegression()\n",
    "model.fit(sc_x, sc_y)\n",
    "\n",
    "sc_x_val = sc_model_x.transform(x_val)\n",
    "sc_y_val = sc_model_y.transform(y_val)\n",
    "model.score(sc_x_val, sc_y_val)"
   ]
  },
  {
   "cell_type": "code",
   "execution_count": null,
   "id": "40d2a79c-91fc-469f-ab17-ba3f6825a1e1",
   "metadata": {},
   "outputs": [],
   "source": []
  }
 ],
 "metadata": {
  "kernelspec": {
   "display_name": "Python 3 (ipykernel)",
   "language": "python",
   "name": "python3"
  },
  "language_info": {
   "codemirror_mode": {
    "name": "ipython",
    "version": 3
   },
   "file_extension": ".py",
   "mimetype": "text/x-python",
   "name": "python",
   "nbconvert_exporter": "python",
   "pygments_lexer": "ipython3",
   "version": "3.10.9"
  }
 },
 "nbformat": 4,
 "nbformat_minor": 5
}
