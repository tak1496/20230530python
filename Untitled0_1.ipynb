{
 "cells": [
  {
   "cell_type": "code",
   "execution_count": 12,
   "id": "efd00e6a-9d50-455e-bfac-e63f53ed6207",
   "metadata": {},
   "outputs": [
    {
     "name": "stderr",
     "output_type": "stream",
     "text": [
      "C:\\Users\\Admin\\anaconda3\\lib\\site-packages\\sklearn\\base.py:420: UserWarning: X does not have valid feature names, but DecisionTreeClassifier was fitted with feature names\n",
      "  warnings.warn(\n"
     ]
    },
    {
     "data": {
      "text/plain": [
       "1.0"
      ]
     },
     "execution_count": 12,
     "metadata": {},
     "output_type": "execute_result"
    }
   ],
   "source": [
    "import pandas as pd\n",
    "from sklearn import tree\n",
    "\n",
    "df = pd.read_csv('KvsT.csv')\n",
    "\n",
    "xcol = ['身長', '体重', '年代']\n",
    "x = df[xcol]\n",
    "t = df['派閥']\n",
    "\n",
    "model = tree.DecisionTreeClassifier(random_state=0)\n",
    "model.fit(x, t)\n",
    "\n",
    "taro = [ [170, 70, 20] ]\n",
    "model.predict(taro)\n",
    "\n",
    "model.score(x, t)"
   ]
  },
  {
   "cell_type": "code",
   "execution_count": null,
   "id": "e3eb0f33-4df0-4dbe-9e1f-21a6fbee8d23",
   "metadata": {},
   "outputs": [],
   "source": []
  }
 ],
 "metadata": {
  "kernelspec": {
   "display_name": "Python 3 (ipykernel)",
   "language": "python",
   "name": "python3"
  },
  "language_info": {
   "codemirror_mode": {
    "name": "ipython",
    "version": 3
   },
   "file_extension": ".py",
   "mimetype": "text/x-python",
   "name": "python",
   "nbconvert_exporter": "python",
   "pygments_lexer": "ipython3",
   "version": "3.10.9"
  }
 },
 "nbformat": 4,
 "nbformat_minor": 5
}
